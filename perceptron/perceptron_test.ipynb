{
 "cells": [
  {
   "cell_type": "code",
   "execution_count": 8,
   "id": "2acb3484",
   "metadata": {},
   "outputs": [],
   "source": [
    "from perceptron import Perceptron\n",
    "import pandas as pd\n",
    "import numpy as np"
   ]
  },
  {
   "cell_type": "markdown",
   "id": "eff6f2ea",
   "metadata": {},
   "source": [
    "### Load Data"
   ]
  },
  {
   "cell_type": "code",
   "execution_count": 9,
   "id": "8ffc6448",
   "metadata": {},
   "outputs": [],
   "source": [
    "data = pd.read_csv('../datasets/linearly_separable.csv', header=None, names=['class', 'x1', 'x2'])"
   ]
  },
  {
   "cell_type": "code",
   "execution_count": 12,
   "id": "89bd0ef4",
   "metadata": {},
   "outputs": [],
   "source": [
    "y = np.array(data['class'].values.tolist())\n",
    "X = np.array(data[['x1', 'x2']].values.tolist())"
   ]
  },
  {
   "cell_type": "code",
   "execution_count": 13,
   "id": "010f389d",
   "metadata": {},
   "outputs": [],
   "source": [
    "y_train = y[0:75]\n",
    "y_test = y[75:]\n",
    "\n",
    "x_train = X[0:75]\n",
    "x_test = X[75:]"
   ]
  },
  {
   "cell_type": "markdown",
   "id": "55fdb758",
   "metadata": {},
   "source": [
    "### Test Basic Perceptron"
   ]
  },
  {
   "cell_type": "code",
   "execution_count": 14,
   "id": "42732500",
   "metadata": {},
   "outputs": [],
   "source": [
    "# our data is two dimensional\n",
    "p = Perceptron(d=2)"
   ]
  },
  {
   "cell_type": "code",
   "execution_count": 15,
   "id": "264e22e0",
   "metadata": {},
   "outputs": [],
   "source": [
    "p.train(x_train, y_train, 100)"
   ]
  },
  {
   "cell_type": "code",
   "execution_count": 16,
   "id": "a7c049e2",
   "metadata": {},
   "outputs": [
    {
     "data": {
      "text/plain": [
       "'Accuracy: 100.0%'"
      ]
     },
     "execution_count": 16,
     "metadata": {},
     "output_type": "execute_result"
    }
   ],
   "source": [
    "correct = 0\n",
    "total = len(x_test)\n",
    "for xhat, y in zip(x_test, y_test):\n",
    "    if p.test(xhat) == y:\n",
    "        correct += 1\n",
    "\n",
    "f'Accuracy: {(correct / total) * 100}%'"
   ]
  }
 ],
 "metadata": {
  "kernelspec": {
   "display_name": "scratch",
   "language": "python",
   "name": "python3"
  },
  "language_info": {
   "codemirror_mode": {
    "name": "ipython",
    "version": 3
   },
   "file_extension": ".py",
   "mimetype": "text/x-python",
   "name": "python",
   "nbconvert_exporter": "python",
   "pygments_lexer": "ipython3",
   "version": "3.10.12"
  }
 },
 "nbformat": 4,
 "nbformat_minor": 5
}
